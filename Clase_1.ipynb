{
  "nbformat": 4,
  "nbformat_minor": 0,
  "metadata": {
    "colab": {
      "name": "Clase 1.ipynb",
      "provenance": [],
      "collapsed_sections": [],
      "toc_visible": true,
      "include_colab_link": true
    },
    "kernelspec": {
      "name": "python3",
      "display_name": "Python 3"
    }
  },
  "cells": [
    {
      "cell_type": "markdown",
      "metadata": {
        "id": "view-in-github",
        "colab_type": "text"
      },
      "source": [
        "<a href=\"https://colab.research.google.com/github/azparraca/Prueba/blob/master/Clase_1.ipynb\" target=\"_parent\"><img src=\"https://colab.research.google.com/assets/colab-badge.svg\" alt=\"Open In Colab\"/></a>"
      ]
    },
    {
      "cell_type": "markdown",
      "metadata": {
        "id": "hF9E5ul730CC",
        "colab_type": "text"
      },
      "source": [
        "# clase 1\n",
        "\n",
        "/ para saber direccionamiento (carpeta en raiz) dc\n",
        " \n",
        "ls para saber contenido de carpeta\n",
        "\n",
        "!pwd     parado en carpeta a nivel de raiz que se llama content (en el ejemplo)\n",
        "\n",
        "\n",
        "\n"
      ]
    },
    {
      "cell_type": "code",
      "metadata": {
        "id": "SayVA8HX4EVK",
        "colab_type": "code",
        "outputId": "a4b412b0-82f6-4213-bb66-b2e11f1ff1cf",
        "colab": {
          "base_uri": "https://localhost:8080/",
          "height": 34
        }
      },
      "source": [
        "# carpetas que estan corriendo \n",
        "!pwd"
      ],
      "execution_count": 0,
      "outputs": [
        {
          "output_type": "stream",
          "text": [
            "/content\n"
          ],
          "name": "stdout"
        }
      ]
    },
    {
      "cell_type": "code",
      "metadata": {
        "id": "LWyzQ0j93--b",
        "colab_type": "code",
        "outputId": "31861e43-095e-4d46-98f6-86dd5df8c7ca",
        "colab": {
          "base_uri": "https://localhost:8080/",
          "height": 34
        }
      },
      "source": [
        "# imprime contenido de content \n",
        "!ls"
      ],
      "execution_count": 0,
      "outputs": [
        {
          "output_type": "stream",
          "text": [
            "sample_data\n"
          ],
          "name": "stdout"
        }
      ]
    },
    {
      "cell_type": "code",
      "metadata": {
        "id": "q5yX2PuX4bMY",
        "colab_type": "code",
        "outputId": "fe72cc03-9f37-4c97-e56f-880cdb00472f",
        "colab": {
          "base_uri": "https://localhost:8080/",
          "height": 51
        }
      },
      "source": [
        "# imprime contenido detallado\n",
        "!ls -l"
      ],
      "execution_count": 0,
      "outputs": [
        {
          "output_type": "stream",
          "text": [
            "total 4\n",
            "drwxr-xr-x 1 root root 4096 Aug 27 16:17 sample_data\n"
          ],
          "name": "stdout"
        }
      ]
    },
    {
      "cell_type": "code",
      "metadata": {
        "id": "rVUnb3Rk4pRl",
        "colab_type": "code",
        "outputId": "09992e24-c79b-4cc1-aa24-519cb427edfc",
        "colab": {
          "base_uri": "https://localhost:8080/",
          "height": 34
        }
      },
      "source": [
        "# muestra contenido de la carpeta content (OJO content esta en la raiz)\n",
        "!ls /content"
      ],
      "execution_count": 0,
      "outputs": [
        {
          "output_type": "stream",
          "text": [
            "ls: cannot access 'content': No such file or directory\n"
          ],
          "name": "stdout"
        }
      ]
    },
    {
      "cell_type": "code",
      "metadata": {
        "id": "XchrDnl_5H63",
        "colab_type": "code",
        "outputId": "2d8cb9fa-8dcd-4a03-f21a-c593faf77904",
        "colab": {
          "base_uri": "https://localhost:8080/",
          "height": 68
        }
      },
      "source": [
        "# muestra todo lo que hay en la raiz \n",
        "!ls /"
      ],
      "execution_count": 0,
      "outputs": [
        {
          "output_type": "stream",
          "text": [
            "bin\t datalab  home\t lib64\topt   run   swift\t\t  tmp\t var\n",
            "boot\t dev\t  lib\t media\tproc  sbin  sys\t\t\t  tools\n",
            "content  etc\t  lib32  mnt\troot  srv   tensorflow-2.0.0-rc1  usr\n"
          ],
          "name": "stdout"
        }
      ]
    },
    {
      "cell_type": "code",
      "metadata": {
        "id": "gE8KREuP54FL",
        "colab_type": "code",
        "colab": {}
      },
      "source": [
        "# ~ una carpeta unica mia propia, mi espacio de trabajo\n",
        "!ls ~"
      ],
      "execution_count": 0,
      "outputs": []
    },
    {
      "cell_type": "code",
      "metadata": {
        "id": "fyFYf6M_9Rnn",
        "colab_type": "code",
        "colab": {}
      },
      "source": [
        "# touch: creeme un archivo vacio que se llame demo y extencion txt\n",
        "!touch demo.txt"
      ],
      "execution_count": 0,
      "outputs": []
    },
    {
      "cell_type": "code",
      "metadata": {
        "id": "Cpotri8F9iN6",
        "colab_type": "code",
        "outputId": "5bba5f7b-4ea9-4c13-d8bf-267d0213b83c",
        "colab": {
          "base_uri": "https://localhost:8080/",
          "height": 34
        }
      },
      "source": [
        "!ls"
      ],
      "execution_count": 0,
      "outputs": [
        {
          "output_type": "stream",
          "text": [
            "demo.txt  sample_data\n"
          ],
          "name": "stdout"
        }
      ]
    },
    {
      "cell_type": "code",
      "metadata": {
        "id": "aOExobYS9kgK",
        "colab_type": "code",
        "outputId": "d6b5948b-f232-4bd3-bf11-ee44f3d86319",
        "colab": {
          "base_uri": "https://localhost:8080/",
          "height": 34
        }
      },
      "source": [
        "# crear carpeta\n",
        "!mkdir demo_clase && ls -l"
      ],
      "execution_count": 0,
      "outputs": [
        {
          "output_type": "stream",
          "text": [
            "mkdir: cannot create directory ‘demo_clase’: File exists\n"
          ],
          "name": "stdout"
        }
      ]
    },
    {
      "cell_type": "code",
      "metadata": {
        "id": "anK69JTy9tXC",
        "colab_type": "code",
        "outputId": "ecc76c66-f5b4-4341-9aa2-416c754ba118",
        "colab": {
          "base_uri": "https://localhost:8080/",
          "height": 85
        }
      },
      "source": [
        "!ls -l"
      ],
      "execution_count": 0,
      "outputs": [
        {
          "output_type": "stream",
          "text": [
            "total 8\n",
            "drwxr-xr-x 2 root root 4096 Sep 20 23:20 demo_clase\n",
            "-rw-r--r-- 1 root root    0 Sep 20 23:16 demo.txt\n",
            "drwxr-xr-x 1 root root 4096 Aug 27 16:17 sample_data\n"
          ],
          "name": "stdout"
        }
      ]
    },
    {
      "cell_type": "code",
      "metadata": {
        "id": "P5vCTqW2-utp",
        "colab_type": "code",
        "outputId": "c0659b9f-af85-48cf-9c7e-315f1e7cdeaf",
        "colab": {
          "base_uri": "https://localhost:8080/",
          "height": 34
        }
      },
      "source": [
        "# cambio de directorio cd (NO FUNCIONO)\n",
        "!cd /demo_clase  "
      ],
      "execution_count": 0,
      "outputs": [
        {
          "output_type": "stream",
          "text": [
            "/bin/bash: line 0: cd: /demo_clase: No such file or directory\n"
          ],
          "name": "stdout"
        }
      ]
    },
    {
      "cell_type": "code",
      "metadata": {
        "id": "OPj3i1J0_H29",
        "colab_type": "code",
        "outputId": "ec98e40b-1fc5-4e47-9b83-c1b6a8cb928f",
        "colab": {
          "base_uri": "https://localhost:8080/",
          "height": 34
        }
      },
      "source": [
        "!pwd"
      ],
      "execution_count": 0,
      "outputs": [
        {
          "output_type": "stream",
          "text": [
            "/content\n"
          ],
          "name": "stdout"
        }
      ]
    },
    {
      "cell_type": "code",
      "metadata": {
        "id": "9tf9FdqU_J8C",
        "colab_type": "code",
        "outputId": "94fa726b-e405-4c26-de2d-da9eb9e37acf",
        "colab": {
          "base_uri": "https://localhost:8080/",
          "height": 34
        }
      },
      "source": [
        ""
      ],
      "execution_count": 0,
      "outputs": [
        {
          "output_type": "stream",
          "text": [
            "/bin/bash: /root: Is a directory\n"
          ],
          "name": "stdout"
        }
      ]
    },
    {
      "cell_type": "code",
      "metadata": {
        "id": "BBIk9VgKAZow",
        "colab_type": "code",
        "colab": {}
      },
      "source": [
        "# DESDE ACA INTENTAR SEGUIR LA PAGINA \n",
        "# touch: creeme un archivo vacio que se llame tareas y extencion txt\n",
        "!touch notas.txt"
      ],
      "execution_count": 0,
      "outputs": []
    },
    {
      "cell_type": "code",
      "metadata": {
        "id": "Iclnh5M_AqzO",
        "colab_type": "code",
        "outputId": "c29d6a23-05a6-431d-abc5-88879ccfd011",
        "colab": {
          "base_uri": "https://localhost:8080/",
          "height": 34
        }
      },
      "source": [
        "# lo que hay en el directorio\n",
        "!ls"
      ],
      "execution_count": 0,
      "outputs": [
        {
          "output_type": "stream",
          "text": [
            "demo_clase  demo.txt  notas.txt  sample_data  tareas.txt\n"
          ],
          "name": "stdout"
        }
      ]
    },
    {
      "cell_type": "code",
      "metadata": {
        "id": "4pI2Qv7hAzXD",
        "colab_type": "code",
        "colab": {}
      },
      "source": [
        "#  crea una nuevo  directorio\n",
        "!mkdir data"
      ],
      "execution_count": 0,
      "outputs": []
    },
    {
      "cell_type": "code",
      "metadata": {
        "id": "eStJSlpFBX7o",
        "colab_type": "code",
        "outputId": "3d5e9734-22a3-4d18-a71c-d43692bffc01",
        "colab": {
          "base_uri": "https://localhost:8080/",
          "height": 34
        }
      },
      "source": [
        "# imprimir contenido de nuevo data\n",
        "ls -l ./data"
      ],
      "execution_count": 0,
      "outputs": [
        {
          "output_type": "stream",
          "text": [
            "total 0\n"
          ],
          "name": "stdout"
        }
      ]
    },
    {
      "cell_type": "code",
      "metadata": {
        "id": "LwJJy_6NBqzk",
        "colab_type": "code",
        "outputId": "5927a6a2-0926-453b-c7d5-e369e4345928",
        "colab": {
          "base_uri": "https://localhost:8080/",
          "height": 34
        }
      },
      "source": [
        "# moverme de directorio\n",
        "cd data"
      ],
      "execution_count": 0,
      "outputs": [
        {
          "output_type": "stream",
          "text": [
            "/content/data\n"
          ],
          "name": "stdout"
        }
      ]
    },
    {
      "cell_type": "code",
      "metadata": {
        "id": "1yuDDQCIDKoi",
        "colab_type": "code",
        "outputId": "3824e461-9819-4b0b-efad-7a491f10d12c",
        "colab": {
          "base_uri": "https://localhost:8080/",
          "height": 34
        }
      },
      "source": [
        "!pdw"
      ],
      "execution_count": 0,
      "outputs": [
        {
          "output_type": "stream",
          "text": [
            "/bin/bash: pdw: command not found\n"
          ],
          "name": "stdout"
        }
      ]
    },
    {
      "cell_type": "code",
      "metadata": {
        "id": "pqUv71BwDLnt",
        "colab_type": "code",
        "colab": {}
      },
      "source": [
        ""
      ],
      "execution_count": 0,
      "outputs": []
    }
  ]
}